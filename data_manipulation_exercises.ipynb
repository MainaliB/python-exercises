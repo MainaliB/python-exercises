{
 "cells": [
  {
   "cell_type": "code",
   "execution_count": 56,
   "metadata": {},
   "outputs": [],
   "source": [
    "students = [\n",
    "    {\n",
    "        \"id\": \"100001\",\n",
    "        \"student\": \"Ada Lovelace\",\n",
    "        \"coffee_preference\": \"light\",\n",
    "        \"course\": \"web development\",\n",
    "        \"grades\": [70, 91, 82, 71],\n",
    "        \"pets\": [{\"species\": \"horse\", \"age\": 8}],\n",
    "    },\n",
    "    {\n",
    "        \"id\": \"100002\",\n",
    "        \"student\": \"Thomas Bayes\",\n",
    "        \"coffee_preference\": \"medium\",\n",
    "        \"course\": \"data science\",\n",
    "        \"grades\": [75, 73, 86, 100],\n",
    "        \"pets\": [],\n",
    "    },\n",
    "    {\n",
    "        \"id\": \"100003\",\n",
    "        \"student\": \"Marie Curie\",\n",
    "        \"coffee_preference\": \"light\",\n",
    "        \"course\": \"web development\",\n",
    "        \"grades\": [70, 89, 69, 65],\n",
    "        \"pets\": [{\"species\": \"cat\", \"age\": 0}],\n",
    "    },\n",
    "    {\n",
    "        \"id\": \"100004\",\n",
    "        \"student\": \"Grace Hopper\",\n",
    "        \"coffee_preference\": \"dark\",\n",
    "        \"course\": \"data science\",\n",
    "        \"grades\": [73, 66, 83, 92],\n",
    "        \"pets\": [{\"species\": \"dog\", \"age\": 4}, {\"species\": \"cat\", \"age\": 4}],\n",
    "    },\n",
    "    {\n",
    "        \"id\": \"100005\",\n",
    "        \"student\": \"Alan Turing\",\n",
    "        \"coffee_preference\": \"dark\",\n",
    "        \"course\": \"web development\",\n",
    "        \"grades\": [78, 98, 85, 65],\n",
    "        \"pets\": [\n",
    "            {\"species\": \"horse\", \"age\": 6},\n",
    "            {\"species\": \"horse\", \"age\": 7},\n",
    "            {\"species\": \"dog\", \"age\": 5},\n",
    "        ],\n",
    "    },\n",
    "    {\n",
    "        \"id\": \"100006\",\n",
    "        \"student\": \"Rosalind Franklin\",\n",
    "        \"coffee_preference\": \"dark\",\n",
    "        \"course\": \"data science\",\n",
    "        \"grades\": [76, 70, 96, 81],\n",
    "        \"pets\": [],\n",
    "    },\n",
    "    {\n",
    "        \"id\": \"100007\",\n",
    "        \"student\": \"Elizabeth Blackwell\",\n",
    "        \"coffee_preference\": \"dark\",\n",
    "        \"course\": \"web development\",\n",
    "        \"grades\": [69, 94, 89, 86],\n",
    "        \"pets\": [{\"species\": \"cat\", \"age\": 10}],\n",
    "    },\n",
    "    {\n",
    "        \"id\": \"100008\",\n",
    "        \"student\": \"Rene Descartes\",\n",
    "        \"coffee_preference\": \"medium\",\n",
    "        \"course\": \"data science\",\n",
    "        \"grades\": [87, 79, 90, 99],\n",
    "        \"pets\": [{\"species\": \"cat\", \"age\": 10}, {\"species\": \"cat\", \"age\": 8}],\n",
    "    },\n",
    "    {\n",
    "        \"id\": \"100009\",\n",
    "        \"student\": \"Ahmed Zewail\",\n",
    "        \"coffee_preference\": \"medium\",\n",
    "        \"course\": \"data science\",\n",
    "        \"grades\": [74, 99, 93, 89],\n",
    "        \"pets\": [{\"species\": \"cat\", \"age\": 0}, {\"species\": \"cat\", \"age\": 0}],\n",
    "    },\n",
    "    {\n",
    "        \"id\": \"100010\",\n",
    "        \"student\": \"Chien-Shiung Wu\",\n",
    "        \"coffee_preference\": \"medium\",\n",
    "        \"course\": \"web development\",\n",
    "        \"grades\": [82, 92, 91, 65],\n",
    "        \"pets\": [{\"species\": \"cat\", \"age\": 8}],\n",
    "    },\n",
    "    {\n",
    "        \"id\": \"100011\",\n",
    "        \"student\": \"William Sanford Nye\",\n",
    "        \"coffee_preference\": \"dark\",\n",
    "        \"course\": \"data science\",\n",
    "        \"grades\": [70, 92, 65, 99],\n",
    "        \"pets\": [{\"species\": \"cat\", \"age\": 8}, {\"species\": \"cat\", \"age\": 5}],\n",
    "    },\n",
    "    {\n",
    "        \"id\": \"100012\",\n",
    "        \"student\": \"Carl Sagan\",\n",
    "        \"coffee_preference\": \"medium\",\n",
    "        \"course\": \"data science\",\n",
    "        \"grades\": [100, 86, 91, 87],\n",
    "        \"pets\": [{\"species\": \"cat\", \"age\": 10}],\n",
    "    },\n",
    "    {\n",
    "        \"id\": \"100013\",\n",
    "        \"student\": \"Jane Goodall\",\n",
    "        \"coffee_preference\": \"light\",\n",
    "        \"course\": \"web development\",\n",
    "        \"grades\": [80, 70, 68, 98],\n",
    "        \"pets\": [{\"species\": \"horse\", \"age\": 4}],\n",
    "    },\n",
    "    {\n",
    "        \"id\": \"100014\",\n",
    "        \"student\": \"Richard Feynman\",\n",
    "        \"coffee_preference\": \"medium\",\n",
    "        \"course\": \"web development\",\n",
    "        \"grades\": [73, 99, 86, 98],\n",
    "        \"pets\": [{\"species\": \"dog\", \"age\": 6}],\n",
    "    },\n",
    "]"
   ]
  },
  {
   "cell_type": "code",
   "execution_count": 57,
   "metadata": {},
   "outputs": [
    {
     "data": {
      "text/plain": [
       "14"
      ]
     },
     "execution_count": 57,
     "metadata": {},
     "output_type": "execute_result"
    }
   ],
   "source": [
    "#How many students are there?\n",
    "number_of_students = len(students)\n",
    "number_of_students"
   ]
  },
  {
   "cell_type": "code",
   "execution_count": 58,
   "metadata": {},
   "outputs": [
    {
     "data": {
      "text/plain": [
       "3"
      ]
     },
     "execution_count": 58,
     "metadata": {},
     "output_type": "execute_result"
    }
   ],
   "source": [
    "#2.How many students prefer light coffee? \n",
    "count = 0\n",
    "for element in students:\n",
    "    if element[\"coffee_preference\"] == \"light\":\n",
    "        count += 1\n",
    "count"
   ]
  },
  {
   "cell_type": "code",
   "execution_count": 59,
   "metadata": {},
   "outputs": [
    {
     "data": {
      "text/plain": [
       "6"
      ]
     },
     "execution_count": 59,
     "metadata": {},
     "output_type": "execute_result"
    }
   ],
   "source": [
    "# For each type of coffee roast?\n",
    "count = 0\n",
    "for element in students:\n",
    "    if element[\"coffee_preference\"] == \"medium\":\n",
    "        count += 1\n",
    "count"
   ]
  },
  {
   "cell_type": "code",
   "execution_count": 60,
   "metadata": {},
   "outputs": [
    {
     "name": "stdout",
     "output_type": "stream",
     "text": [
      "3\n"
     ]
    }
   ],
   "source": [
    "\n",
    "#How many types of each pet are there?\n",
    "\n",
    "new_list =[]\n",
    "pet_list = []\n",
    "for element in students:\n",
    "    new_list +=(element['pets']) \n",
    "    for item in new_list:\n",
    "        pet_list.append(item[\"species\"])      \n",
    "unique_list = set(pet_list)\n",
    "print(len(unique_list))\n"
   ]
  },
  {
   "cell_type": "code",
   "execution_count": 61,
   "metadata": {},
   "outputs": [
    {
     "name": "stdout",
     "output_type": "stream",
     "text": [
      "4\n",
      "4\n",
      "4\n",
      "4\n",
      "4\n",
      "4\n",
      "4\n",
      "4\n",
      "4\n",
      "4\n",
      "4\n",
      "4\n",
      "4\n",
      "4\n"
     ]
    }
   ],
   "source": [
    "\n",
    "#4 How many grades does each student have?\n",
    "for element in students:\n",
    "    print(len(element['grades']))"
   ]
  },
  {
   "cell_type": "code",
   "execution_count": 62,
   "metadata": {},
   "outputs": [
    {
     "name": "stdout",
     "output_type": "stream",
     "text": [
      "78.5\n",
      "83.5\n",
      "73.25\n",
      "78.5\n",
      "81.5\n",
      "80.75\n",
      "84.5\n",
      "88.75\n",
      "88.75\n",
      "82.5\n",
      "81.5\n",
      "91.0\n",
      "79.0\n",
      "89.0\n"
     ]
    }
   ],
   "source": [
    "#5 What is each student's grade average?\n",
    "\n",
    "for element in students:\n",
    "    print((sum(element['grades']))/len(element['grades']))"
   ]
  },
  {
   "cell_type": "code",
   "execution_count": 63,
   "metadata": {},
   "outputs": [
    {
     "name": "stdout",
     "output_type": "stream",
     "text": [
      "1\n",
      "0\n",
      "1\n",
      "2\n",
      "3\n",
      "0\n",
      "1\n",
      "2\n",
      "2\n",
      "1\n",
      "2\n",
      "1\n",
      "1\n",
      "1\n"
     ]
    }
   ],
   "source": [
    "\n",
    "#6.How many pets does each student have? \n",
    "for element in students:\n",
    "    print(len(element['pets']))"
   ]
  },
  {
   "cell_type": "code",
   "execution_count": 64,
   "metadata": {},
   "outputs": [
    {
     "data": {
      "text/plain": [
       "7"
      ]
     },
     "execution_count": 64,
     "metadata": {},
     "output_type": "execute_result"
    }
   ],
   "source": [
    "#7. How many students are in web development? \n",
    "count = 0\n",
    "for element in students:\n",
    "    if element['course'] == 'web development':\n",
    "        count += 1\n",
    "count"
   ]
  },
  {
   "cell_type": "code",
   "execution_count": 65,
   "metadata": {},
   "outputs": [
    {
     "data": {
      "text/plain": [
       "7"
      ]
     },
     "execution_count": 65,
     "metadata": {},
     "output_type": "execute_result"
    }
   ],
   "source": [
    "# data science?\n",
    "count = 0\n",
    "for element in students:\n",
    "    if element['course'] == 'data science':\n",
    "        count += 1\n",
    "count"
   ]
  },
  {
   "cell_type": "code",
   "execution_count": 66,
   "metadata": {},
   "outputs": [
    {
     "data": {
      "text/plain": [
       "1.2857142857142858"
      ]
     },
     "execution_count": 66,
     "metadata": {},
     "output_type": "execute_result"
    }
   ],
   "source": [
    "#8. What is the average number of pets for students in web development?\n",
    "count_pets = 0\n",
    "count_students = 0\n",
    "for element in students:\n",
    "    if element['course'] == 'web development':\n",
    "        count_students += 1\n",
    "        count_pets += len(element['pets'])\n",
    "average = count_pets/count_students\n",
    "average"
   ]
  },
  {
   "cell_type": "code",
   "execution_count": 67,
   "metadata": {},
   "outputs": [
    {
     "data": {
      "text/plain": [
       "1.2857142857142858"
      ]
     },
     "execution_count": 67,
     "metadata": {},
     "output_type": "execute_result"
    }
   ],
   "source": [
    "\n",
    "# 9. What is the average pet age for students in data science?\n",
    "count_pets = 0\n",
    "count_students = 0\n",
    "for element in students:\n",
    "    if element['course'] == 'data science':\n",
    "        count_students += 1\n",
    "        count_pets += len(element['pets'])\n",
    "average = count_pets/count_students\n",
    "average"
   ]
  },
  {
   "cell_type": "code",
   "execution_count": 68,
   "metadata": {},
   "outputs": [
    {
     "name": "stdout",
     "output_type": "stream",
     "text": [
      "The most prefered coffee preference for students in data science is medium.\n"
     ]
    }
   ],
   "source": [
    "#10. What is most frequent coffee preference for data science students?\n",
    "std_data_science =[]\n",
    "for std in students:\n",
    "    if std['course'] == 'data science':\n",
    "        std_data_science.append(std['coffee_preference'])\n",
    "std_data_science\n",
    "count = {}\n",
    "for item in std_data_science:\n",
    "    if item in count:\n",
    "        count[item] += 1\n",
    "    else:\n",
    "        count[item] = 1\n",
    "count\n",
    "prefered_coffee = max(count, key = count.get)\n",
    "print(f\"The most prefered coffee preference for students in data science is {prefered_coffee}.\")"
   ]
  },
  {
   "cell_type": "code",
   "execution_count": 69,
   "metadata": {},
   "outputs": [
    {
     "name": "stdout",
     "output_type": "stream",
     "text": [
      "The least prefered coffee preference for students in web development is dark.\n"
     ]
    }
   ],
   "source": [
    "#11. What is the least frequent coffee preference for web development students?\n",
    "std_web_development =[]\n",
    "for std in students:\n",
    "    if std['course'] == 'web development':\n",
    "        std_web_development.append(std['coffee_preference'])\n",
    "std_web_development\n",
    "count = {}\n",
    "for item in std_web_development:\n",
    "    if item in count:\n",
    "        count[item] += 1\n",
    "    else:\n",
    "        count[item] = 1\n",
    "count\n",
    "least_prefered_coffee = min(count, key = count.get)\n",
    "print(f\"The least prefered coffee preference for students in web development is {least_prefered_coffee}.\")"
   ]
  },
  {
   "cell_type": "code",
   "execution_count": 70,
   "metadata": {},
   "outputs": [
    {
     "name": "stdout",
     "output_type": "stream",
     "text": [
      "The average grade for students with at least 2 pets is 83.8\n"
     ]
    }
   ],
   "source": [
    "#12.What is the average grade for students with at least 2 pets?\n",
    "std_grades = []\n",
    "new_avg =[]\n",
    "for student in students:\n",
    "    if len(student['pets']) >= 2:\n",
    "        std_grades.append(student['grades'])\n",
    "std_grades\n",
    "for item in std_grades:\n",
    "    new_avg.append(sum(item)/len(item))\n",
    "new_avg\n",
    "final_avg = sum(new_avg)/len(new_avg)\n",
    "print(f\"The average grade for students with at least 2 pets is {final_avg}\")"
   ]
  },
  {
   "cell_type": "code",
   "execution_count": 71,
   "metadata": {},
   "outputs": [
    {
     "name": "stdout",
     "output_type": "stream",
     "text": [
      "The number of student with 3 pets is 1.\n"
     ]
    }
   ],
   "source": [
    "#13.How many students have 3 pets?\n",
    "std_count = []\n",
    "for student in students:\n",
    "    if len(student['pets']) == 3:\n",
    "        std_count.append(student)\n",
    "std_count\n",
    "print(f\"The number of student with 3 pets is {len(std_count)}.\")"
   ]
  },
  {
   "cell_type": "code",
   "execution_count": 72,
   "metadata": {},
   "outputs": [
    {
     "name": "stdout",
     "output_type": "stream",
     "text": [
      "The average grade for students with no pets is 82.125\n"
     ]
    }
   ],
   "source": [
    "#14. What is the average grade for students with 0 pets?\n",
    "std_grades = []\n",
    "new_avg =[]\n",
    "for student in students:\n",
    "    if len(student['pets']) == 0:\n",
    "        std_grades.append(student['grades'])\n",
    "std_grades\n",
    "for item in std_grades:\n",
    "    new_avg.append(sum(item)/len(item))\n",
    "new_avg\n",
    "final_avg = sum(new_avg)/len(new_avg)\n",
    "print(f\"The average grade for students with no pets is {final_avg}\")"
   ]
  },
  {
   "cell_type": "code",
   "execution_count": 73,
   "metadata": {},
   "outputs": [
    {
     "name": "stdout",
     "output_type": "stream",
     "text": [
      "The average grade for web development students is 81.17857142857143\n"
     ]
    }
   ],
   "source": [
    "#15. What is the average grade for web development students? data science students?\n",
    "std_grades = []\n",
    "new_avg =[]\n",
    "for student in students:\n",
    "    if student['course'] == 'web development':\n",
    "        std_grades.append(student['grades'])\n",
    "std_grades\n",
    "for item in std_grades:\n",
    "    new_avg.append(sum(item)/len(item))\n",
    "new_avg\n",
    "final_avg = sum(new_avg)/len(new_avg)\n",
    "print(f\"The average grade for web development students is {final_avg}\")"
   ]
  },
  {
   "cell_type": "code",
   "execution_count": 74,
   "metadata": {},
   "outputs": [
    {
     "name": "stdout",
     "output_type": "stream",
     "text": [
      "The average grade for data science students is 84.67857142857143\n"
     ]
    }
   ],
   "source": [
    "#What is the average grade for data science students?\n",
    "std_grades = []\n",
    "new_avg =[]\n",
    "for student in students:\n",
    "    if student['course'] == 'data science':\n",
    "        std_grades.append(student['grades'])\n",
    "std_grades\n",
    "for item in std_grades:\n",
    "    new_avg.append(sum(item)/len(item))\n",
    "new_avg\n",
    "final_avg = sum(new_avg)/len(new_avg)\n",
    "print(f\"The average grade for data science students is {final_avg}\")"
   ]
  },
  {
   "cell_type": "code",
   "execution_count": 75,
   "metadata": {},
   "outputs": [
    {
     "data": {
      "text/plain": [
       "34"
      ]
     },
     "execution_count": 75,
     "metadata": {},
     "output_type": "execute_result"
    }
   ],
   "source": [
    "#16.What is the average grade range (i.e. highest grade - lowest grade) for dark coffee drinkers? \n",
    "grade_list = []\n",
    "new_list =[]\n",
    "for student in students:\n",
    "    if student['coffee_preference'] =='dark':\n",
    "        grade_list.append(student['grades'])\n",
    "grade_list\n",
    "for item in grade_list:\n",
    "    for i in item:\n",
    "        new_list.append(i)\n",
    "new_list\n",
    "average_grade_range = max(new_list) - min(new_list)\n",
    "average_grade_range\n",
    "    "
   ]
  },
  {
   "cell_type": "code",
   "execution_count": 78,
   "metadata": {},
   "outputs": [
    {
     "name": "stdout",
     "output_type": "stream",
     "text": [
      "The average number of pets for medium coffee drinkers is 1.1666666666666667\n"
     ]
    }
   ],
   "source": [
    "#17. What is the average number of pets for medium coffee drinkers?\n",
    "student_list = []\n",
    "pet_list = []\n",
    "pet_count = 0\n",
    "for student in students:\n",
    "    if student['coffee_preference']=='medium':\n",
    "        student_list.append(student['id'])\n",
    "        pet_list.append(student['pets'])\n",
    "student_list\n",
    "pet_list\n",
    "for x in pet_list:\n",
    "    pet_count+= len(x)\n",
    "pet_count\n",
    "average_number = pet_count/len(student_list)\n",
    "print(f\"The average number of pets for medium coffee drinkers is {average_number}\")"
   ]
  },
  {
   "cell_type": "code",
   "execution_count": 79,
   "metadata": {},
   "outputs": [
    {
     "name": "stdout",
     "output_type": "stream",
     "text": [
      "The most common type of pet for web development students is horse\n"
     ]
    }
   ],
   "source": [
    "#18.What is the most common type of pet for web development students?\n",
    "pet_list = []\n",
    "for student in students:\n",
    "    if student['course'] == 'web development':\n",
    "        pet_list.append(student['pets'])\n",
    "pet_list\n",
    "pet_count = {}\n",
    "for pet in pet_list:\n",
    "    for dic in pet:\n",
    "        if dic['species'] in pet_count:\n",
    "            pet_count[dic['species']]+= 1\n",
    "        else:\n",
    "            pet_count[dic['species']] = 1\n",
    "print(f\"The most common type of pet for web development students is {max(pet_count)}\")\n",
    "        "
   ]
  },
  {
   "cell_type": "code",
   "execution_count": 80,
   "metadata": {},
   "outputs": [
    {
     "name": "stdout",
     "output_type": "stream",
     "text": [
      "The average name length is 12.571428571428571\n"
     ]
    }
   ],
   "source": [
    "#19. What is the average name length?\n",
    "student_name = []\n",
    "new_list_of_names = []\n",
    "for student in students:\n",
    "    student_name.append(student['student'])\n",
    "student_name\n",
    "for name in student_name:\n",
    "    new_list_of_names.append(name.replace(\" \", \"\"))\n",
    "new_list_of_names\n",
    "len_for_name = [len(names) for names in new_list_of_names]\n",
    "len_for_name\n",
    "average_name_length = sum(len_for_name)/len(len_for_name)\n",
    "print(f\"The average name length is {average_name_length}\")"
   ]
  },
  {
   "cell_type": "code",
   "execution_count": 81,
   "metadata": {},
   "outputs": [
    {
     "name": "stdout",
     "output_type": "stream",
     "text": [
      "The highest pet age for light coffee drinkers is 8 years\n"
     ]
    }
   ],
   "source": [
    "#20. What is the highest pet age for light coffee drinkers?\n",
    "pet_list = []\n",
    "for student in students:\n",
    "    if student['coffee_preference'] == 'light':\n",
    "        pet_list.append(student['pets'])\n",
    "pet_list\n",
    "pet_age_list = []\n",
    "for pet in pet_list:\n",
    "    for dic in pet:\n",
    "        x = dic.get('age')\n",
    "        pet_age_list.append(x)\n",
    "print(f\"The highest pet age for light coffee drinkers is {max(pet_age_list)} years\")\n"
   ]
  }
 ],
 "metadata": {
  "kernelspec": {
   "display_name": "Python 3",
   "language": "python",
   "name": "python3"
  },
  "language_info": {
   "codemirror_mode": {
    "name": "ipython",
    "version": 3
   },
   "file_extension": ".py",
   "mimetype": "text/x-python",
   "name": "python",
   "nbconvert_exporter": "python",
   "pygments_lexer": "ipython3",
   "version": "3.7.6"
  }
 },
 "nbformat": 4,
 "nbformat_minor": 4
}
